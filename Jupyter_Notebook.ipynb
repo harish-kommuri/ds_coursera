{
 "cells": [
  {
   "cell_type": "markdown",
   "metadata": {},
   "source": [
    "## Tools of Data Science"
   ]
  },
  {
   "cell_type": "markdown",
   "metadata": {},
   "source": [
    "#### This Jupyter Notebook is for practicing Tools of Data Science"
   ]
  },
  {
   "cell_type": "markdown",
   "metadata": {},
   "source": [
    "- Python\n",
    "- R\n",
    "- Julia\n",
    "- SQL\n",
    "- C++\n",
    "- Java\n",
    "- Go\n",
    "- JavaScript\n",
    "- PHP\n",
    "- Ruby"
   ]
  },
  {
   "cell_type": "markdown",
   "metadata": {},
   "source": [
    "### Libraries\n",
    " - ggplot\n",
    " - Matplotlib\n",
    " - Lattice\n",
    " - Leaflet\n",
    " - Pandas\n",
    " - Numpy\n",
    " - PixieDust"
   ]
  },
  {
   "cell_type": "markdown",
   "metadata": {},
   "source": [
    "| DS Tools        |\n",
    "| :-----------    |\n",
    "| R Studio        |\n",
    "| GitHub          |\n",
    "| Jupyter Notebook|\n",
    "| Jupyter Lab     |\n",
    "| Anaconda        |\n",
    "| GitLab          |\n",
    "| Jupyter Lite    |\n",
    "\n"
   ]
  },
  {
   "cell_type": "code",
   "execution_count": 17,
   "metadata": {},
   "outputs": [
    {
     "data": {
      "text/plain": [
       "8.0"
      ]
     },
     "execution_count": 17,
     "metadata": {},
     "output_type": "execute_result"
    }
   ],
   "source": [
    "2 + 3\n",
    "\n",
    "4 - 2\n",
    "\n",
    "7 * 8\n",
    "\n",
    "64 / 8"
   ]
  },
  {
   "cell_type": "code",
   "execution_count": 19,
   "metadata": {},
   "outputs": [
    {
     "name": "stdout",
     "output_type": "stream",
     "text": [
      "10\n",
      "49\n"
     ]
    }
   ],
   "source": [
    "print(4 + 6)\n",
    "print(7 * 7)"
   ]
  },
  {
   "cell_type": "code",
   "execution_count": 24,
   "metadata": {},
   "outputs": [
    {
     "name": "stdout",
     "output_type": "stream",
     "text": [
      "1.67\n"
     ]
    }
   ],
   "source": [
    "minutes = 100\n",
    "\n",
    "hours = minutes / 60\n",
    "\n",
    "print(format(hours, '.2f'))"
   ]
  },
  {
   "cell_type": "markdown",
   "metadata": {},
   "source": [
    "### Objective\n",
    "- Complete Tools of Data Science\n",
    "- Finish Week 6 Assignment\n",
    "- Practice DS tools and libraries"
   ]
  },
  {
   "cell_type": "markdown",
   "metadata": {},
   "source": [
    "## Author: Harish Kommuri"
   ]
  }
 ],
 "metadata": {
  "kernelspec": {
   "display_name": "Python 3 (ipykernel)",
   "language": "python",
   "name": "python3"
  },
  "language_info": {
   "codemirror_mode": {
    "name": "ipython",
    "version": 3
   },
   "file_extension": ".py",
   "mimetype": "text/x-python",
   "name": "python",
   "nbconvert_exporter": "python",
   "pygments_lexer": "ipython3",
   "version": "3.10.7"
  }
 },
 "nbformat": 4,
 "nbformat_minor": 4
}
