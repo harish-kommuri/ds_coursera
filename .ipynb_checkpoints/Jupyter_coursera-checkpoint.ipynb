{
 "cells": [
  {
   "cell_type": "markdown",
   "id": "879db392",
   "metadata": {},
   "source": [
    "### Tools of Data Science"
   ]
  },
  {
   "cell_type": "markdown",
   "id": "580184bf",
   "metadata": {},
   "source": [
    "**_Intro_: This Jupyter Notebook is for practicing Tools of Data Science**\n"
   ]
  },
  {
   "cell_type": "markdown",
   "id": "2644d15b",
   "metadata": {},
   "source": [
    "**Languages**\n",
    "\n",
    "- Python\n",
    "- R\n",
    "- Julia\n",
    "- SQL\n",
    "- C++\n",
    "- Java\n",
    "- Go\n",
    "- JavaScript\n",
    "- PHP\n",
    "- Ruby"
   ]
  },
  {
   "cell_type": "markdown",
   "id": "ec87059b",
   "metadata": {},
   "source": [
    "**Libraries**\n",
    "\n",
    " - ggplot\n",
    " - Matplotlib\n",
    " - Lattice\n",
    " - Leaflet\n",
    " - Pandas\n",
    " - Numpy\n",
    " - PixieDust"
   ]
  },
  {
   "cell_type": "markdown",
   "id": "2f8b479d",
   "metadata": {},
   "source": [
    "| DS Tools        |\n",
    "| :-----------    |\n",
    "| R Studio        |\n",
    "| GitHub          |\n",
    "| Jupyter Notebook|\n",
    "| Jupyter Lab     |\n",
    "| Anaconda        |\n",
    "| GitLab          |\n",
    "| Jupyter Lite    |\n",
    "\n"
   ]
  },
  {
   "cell_type": "markdown",
   "id": "0c9a75b4",
   "metadata": {},
   "source": [
    "**Basic Arithmetic Operations are as follows**\n",
    "\n",
    "_3 + 4 = 7_\n",
    "\n",
    "_8 - 4 = 4_\n",
    "\n",
    "_2 * 6 = 12_\n",
    "\n",
    "_64 / 4 = 31_\n"
   ]
  },
  {
   "cell_type": "code",
   "execution_count": 5,
   "id": "6313506d",
   "metadata": {},
   "outputs": [
    {
     "name": "stdout",
     "output_type": "stream",
     "text": [
      "20\n"
     ]
    }
   ],
   "source": [
    "result = (3 * 5) + 5\n",
    "\n",
    "print(result)"
   ]
  },
  {
   "cell_type": "code",
   "execution_count": 6,
   "id": "dfd0b1df",
   "metadata": {},
   "outputs": [
    {
     "name": "stdout",
     "output_type": "stream",
     "text": [
      "1.67\n"
     ]
    }
   ],
   "source": [
    "minutes = 100\n",
    "\n",
    "hours = minutes / 60\n",
    "\n",
    "print(format(hours, '.2f'))"
   ]
  },
  {
   "cell_type": "markdown",
   "id": "44840ad4",
   "metadata": {},
   "source": [
    "**Objective**\n",
    "\n",
    "- Complete Tools of Data Science\n",
    "- Finish Week 6 Assignment\n",
    "- Practice DS tools and libraries"
   ]
  },
  {
   "cell_type": "markdown",
   "id": "e3db89aa",
   "metadata": {},
   "source": [
    "**Author: Harin Kommuri**\n",
    "\n",
    "_CapGemini, Bangalore, India_"
   ]
  },
  {
   "cell_type": "code",
   "execution_count": null,
   "id": "2a940ca3",
   "metadata": {},
   "outputs": [],
   "source": []
  }
 ],
 "metadata": {
  "kernelspec": {
   "display_name": "Python 3 (ipykernel)",
   "language": "python",
   "name": "python3"
  },
  "language_info": {
   "codemirror_mode": {
    "name": "ipython",
    "version": 3
   },
   "file_extension": ".py",
   "mimetype": "text/x-python",
   "name": "python",
   "nbconvert_exporter": "python",
   "pygments_lexer": "ipython3",
   "version": "3.10.7"
  }
 },
 "nbformat": 4,
 "nbformat_minor": 5
}
